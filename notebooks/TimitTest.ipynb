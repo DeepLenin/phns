{
 "cells": [
  {
   "cell_type": "markdown",
   "metadata": {},
   "source": [
    "# Idea\n",
    "\n",
    "### Режимы работы библиотеки:\n",
    "\n",
    "1. На вход ей подается текст и на выход получаем фонемы (разные прочтения)\n",
    "2. На вход подаем фонемы двух типов и получаем их разницу\n",
    "3. Мы подаем текст/фонемы и логиты (вероятности каждой фонемы в каждом звуковом окне) и получаем транскрипцию\n",
    "\n",
    "### Хотим учесть:\n",
    "\n",
    "- cmudict + lextool для первичного преобразования текста в фонемы по словарю/эвристикам\n",
    "- функции для работы с фонемами - трансляция 61-48-39, one-letter-encoding, diff функции и подсчет операций\n",
    "- витерби для третьего режима\n",
    "- эвристики на стыке слов и похожие звуки\n",
    "- сравнение с фонемами тимита\n",
    "- разные варианты произношения слова\n",
    "\n",
    "На будущее:\n",
    "- сравнить с https://github.com/bootphon/phonemizer на различных бэкендах - используют ли они тоже cmudict внутри или какой-то свой фонемайзер\n",
    "- ударения - как отдельных слов так и целиком в предложении\n",
    "\n",
    "### Начальные статы сравнения транскрипций словарных с тимитом:\n",
    "\n",
    "```\n",
    "sum(stats[\"cer\"])/len(stats[\"cer\"])\n",
    "0.24904557704602598\n",
    "\n",
    "sorted(stats[\"cer\"])[int(len(stats[\"cer\"])/2)]\n",
    "0.25\n",
    "```"
   ]
  },
  {
   "cell_type": "code",
   "execution_count": null,
   "metadata": {},
   "outputs": [],
   "source": [
    "# 1. Перевести разметку тимита при помощи cmudict\n",
    "\n",
    "import torch\n",
    "from glob import glob\n",
    "from soundfile import read as read_sound\n",
    "\n",
    "import editdistance\n",
    "\n",
    "\n",
    "\n",
    "cmu = {}\n",
    "for word in open(\"/home/gazay/code/jongleur/cmudict.dict.txt\").read().split(\"\\n\"):\n",
    "    word_parts = word.split(' ')\n",
    "    cmu[word_parts[0]] = [''.join(filter(lambda x: not x.isdigit(), phn.lower())) for phn in word_parts[1:]]\n",
    "    \n",
    "class TimitDataset(torch.utils.data.Dataset):\n",
    "    def __init__(self, path):\n",
    "        self.path = path\n",
    "        self.wavs = glob(path + '/*/*/*/*.wav')\n",
    "        \n",
    "    def __len__(self):\n",
    "        return len(self.wavs)\n",
    "    \n",
    "    def __read_phns__(self, path):\n",
    "        raw_phns = open(path).read()\n",
    "        phns = [phn.split(' ')[-1] for phn in raw_phns.split('\\n') if len(phn)]\n",
    "        phns = remap(phns)\n",
    "        phns = [phn for phn in phns if phn != 'sil']\n",
    "        return phns\n",
    "    \n",
    "    def __read_txt__(self, path):\n",
    "        raw_text = open(path).read()\n",
    "        return raw_text.split(' ', 2)[-1]\n",
    "    \n",
    "    def __getitem__(self, idx):\n",
    "        wav_path = self.wavs[idx]\n",
    "        phn_path = wav_path.replace('.WAV.wav', '.PHN')\n",
    "        txt_path = wav_path.replace('.WAV.wav', '.TXT')\n",
    "        wav = read_sound(wav_path)\n",
    "        phns = self.__read_phns__(phn_path)\n",
    "        text = self.__read_txt__(txt_path)\n",
    "        _text = text.lower()   \\\n",
    "            .replace('.', '')  \\\n",
    "            .replace(\"\\n\", '') \\\n",
    "            .replace('?', '')  \\\n",
    "            .replace(',', '')  \\\n",
    "            .replace(';', '')  \\\n",
    "            .replace(':', '')  \\\n",
    "            .replace('\"', '')  \\\n",
    "            .replace('!', '')  \\\n",
    "            .replace('-', ' ') \\\n",
    "            .split(' ')\n",
    "        cmu_phns = []\n",
    "        \n",
    "        cer_to_null = False\n",
    "        for word in _text:\n",
    "            if word not in cmu:\n",
    "                print(\"word not in dict: \", word)\n",
    "                cer_to_null = True\n",
    "                continue\n",
    "            cmu_phns.extend(cmu[word])\n",
    "        cer = editdistance.eval(phns, cmu_phns)/len(phns)\n",
    "        if cer_to_null:\n",
    "            cer = 0\n",
    "        \n",
    "        _phns = single_char_encode(phns)\n",
    "        _cmu_phns = single_char_encode(cmu_phns)\n",
    "        return {\"wav\": wav, \"orig_phns\": phns, \"orig_cmu_phns\": cmu_phns, \"phns\": _phns, \"text\": text, \"cmu_phns\": _cmu_phns, \"cer\": cer}"
   ]
  },
  {
   "cell_type": "code",
   "execution_count": null,
   "metadata": {},
   "outputs": [],
   "source": [
    "# for unknown words http://www.speech.cs.cmu.edu/tools/lextool.html\n",
    "\n",
    "import os\n",
    "import IPython\n",
    "from diff_match_patch import diff_match_patch\n",
    "DIFFER = diff_match_patch()\n",
    "\n",
    "def show_diff(r, t):\n",
    "    html_diffs = DIFFER.diff_main(r, t)\n",
    "    display(IPython.display.HTML(DIFFER.diff_prettyHtml(html_diffs)))\n",
    "    \n",
    "def diff(item):\n",
    "    print(item[\"text\"])\n",
    "    show_diff(item[\"phns\"], item[\"cmu_phns\"])\n",
    "    \n",
    "def load_phone_map():\n",
    "    with open('/home/gazay/code/jongleur/phones.61-48-39.map', 'r') as fid:\n",
    "        lines = (l.strip().split() for l in fid)\n",
    "        lines = [l for l in lines if len(l) == 3]\n",
    "    m61_48 = {l[0] : l[1] for l in lines}\n",
    "    m48_39 = {l[1] : l[2] for l in lines}\n",
    "    return m61_48, m48_39\n",
    "\n",
    "m61_48, m48_39 = load_phone_map()\n",
    "\n",
    "def remap_48_to_39(data):\n",
    "    return [m48_39[p] for p in data if p in m48_39]\n",
    "\n",
    "def remap_61_to_48(data):\n",
    "    return [m61_48[p] for p in data if p in m61_48]\n",
    "\n",
    "# TODO: document phonems in different models/datasets\n",
    "def remap(data):\n",
    "    result = []\n",
    "    for phn in data:\n",
    "        # dx is missing from awni 39 phonemes\n",
    "        if phn == 'dx':\n",
    "            result.append('d')\n",
    "        elif phn == 'sil': # in case we override phoneme target and use SIL symbol\n",
    "            result.append(phn)\n",
    "        elif phn != 'q':\n",
    "            result.append(m48_39[m61_48[phn]])\n",
    "    return result\n",
    "\n",
    "def single_char_encode(phns):\n",
    "    return ''.join([one_letter_encoding[phn] for phn in phns])\n",
    "\n",
    "one_letter_encoding = {\n",
    "    'aa': 'a',\n",
    "    'ae': '@',\n",
    "    'ah': 'A',\n",
    "    'ao': 'c',\n",
    "    'aw': 'W',\n",
    "    'ax': 'x',\n",
    "    'ay': 'Y',\n",
    "    'b': 'b',\n",
    "    'ch': 'C',\n",
    "    'cl': '-',\n",
    "    'd': 'd',\n",
    "    'dh': 'D',\n",
    "    'dx': 'F',\n",
    "    'eh': 'E',\n",
    "    'el': 'L',\n",
    "    'en': 'N',\n",
    "    'epi': '=',\n",
    "    'er': 'R',\n",
    "    'ey': 'e',\n",
    "    'f': 'f',\n",
    "    'g': 'g',\n",
    "    'hh': 'h',\n",
    "    'ih': 'I',\n",
    "    'ix': 'X',\n",
    "    'iy': 'i',\n",
    "    'jh': 'J',\n",
    "    'k': 'k',\n",
    "    'l': 'l',\n",
    "    'm': 'm',\n",
    "    'n': 'n',\n",
    "    'ng': 'G',\n",
    "    'ow': 'o',\n",
    "    'oy': 'O',\n",
    "    'p': 'p',\n",
    "    'r': 'r',\n",
    "    's': 's',\n",
    "    'sh': 'S',\n",
    "    'sil': '_',\n",
    "    't': 't',\n",
    "    'th': 'T',\n",
    "    'uh': 'U',\n",
    "    'uw': 'u',\n",
    "    'v': 'v',\n",
    "    'vcl': '+',\n",
    "    'w': 'w',\n",
    "    'y': 'y',\n",
    "    'z': 'z',\n",
    "    'zh': 'Z'\n",
    "}"
   ]
  },
  {
   "cell_type": "code",
   "execution_count": null,
   "metadata": {},
   "outputs": [],
   "source": [
    "ds = TimitDataset(path=\"/home/gazay/datasets/TIMIT\")"
   ]
  },
  {
   "cell_type": "code",
   "execution_count": null,
   "metadata": {},
   "outputs": [],
   "source": [
    "item = next(iter(ds))\n",
    "item[\"text\"]"
   ]
  },
  {
   "cell_type": "code",
   "execution_count": null,
   "metadata": {},
   "outputs": [],
   "source": [
    "# item[\"orig_phns\"]"
   ]
  },
  {
   "cell_type": "code",
   "execution_count": null,
   "metadata": {},
   "outputs": [],
   "source": [
    "stats = {\n",
    "    \"len\": [],\n",
    "    \"cer\": []\n",
    "}\n",
    "\n",
    "for item in ds:\n",
    "    stats[\"len\"].append(len(item[\"phns\"]))\n",
    "    stats[\"cer\"].append(item[\"cer\"])"
   ]
  },
  {
   "cell_type": "code",
   "execution_count": null,
   "metadata": {},
   "outputs": [],
   "source": [
    "cmu[\"and\"]"
   ]
  },
  {
   "cell_type": "code",
   "execution_count": null,
   "metadata": {},
   "outputs": [],
   "source": [
    "show_diff(item[\"phns\"], item[\"cmu_phns\"])"
   ]
  },
  {
   "cell_type": "code",
   "execution_count": null,
   "metadata": {},
   "outputs": [],
   "source": [
    "sum(stats[\"cer\"])/len(stats[\"cer\"])"
   ]
  },
  {
   "cell_type": "code",
   "execution_count": null,
   "metadata": {},
   "outputs": [],
   "source": [
    "sorted(stats[\"cer\"])[int(len(stats[\"cer\"])/2)]"
   ]
  },
  {
   "cell_type": "code",
   "execution_count": null,
   "metadata": {},
   "outputs": [],
   "source": [
    "stats[\"cer\"][:10]"
   ]
  },
  {
   "cell_type": "code",
   "execution_count": null,
   "metadata": {},
   "outputs": [],
   "source": [
    "cmu['spend']"
   ]
  },
  {
   "cell_type": "code",
   "execution_count": null,
   "metadata": {},
   "outputs": [],
   "source": [
    "item = ds.__getitem__(7)\n",
    "diff(item)"
   ]
  },
  {
   "cell_type": "code",
   "execution_count": null,
   "metadata": {},
   "outputs": [],
   "source": [
    "item['phns']"
   ]
  },
  {
   "cell_type": "code",
   "execution_count": null,
   "metadata": {},
   "outputs": [],
   "source": [
    "item['orig_phns']"
   ]
  }
 ],
 "metadata": {
  "kernelspec": {
   "display_name": "Python 3",
   "language": "python",
   "name": "python3"
  },
  "language_info": {
   "codemirror_mode": {
    "name": "ipython",
    "version": 3
   },
   "file_extension": ".py",
   "mimetype": "text/x-python",
   "name": "python",
   "nbconvert_exporter": "python",
   "pygments_lexer": "ipython3",
   "version": "3.6.9"
  },
  "latex_envs": {
   "LaTeX_envs_menu_present": true,
   "autoclose": false,
   "autocomplete": true,
   "bibliofile": "biblio.bib",
   "cite_by": "apalike",
   "current_citInitial": 1,
   "eqLabelWithNumbers": true,
   "eqNumInitial": 1,
   "hotkeys": {
    "equation": "Ctrl-E",
    "itemize": "Ctrl-I"
   },
   "labels_anchors": false,
   "latex_user_defs": false,
   "report_style_numbering": false,
   "user_envs_cfg": false
  }
 },
 "nbformat": 4,
 "nbformat_minor": 2
}
