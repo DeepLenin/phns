{
 "cells": [
  {
   "cell_type": "code",
   "execution_count": null,
   "metadata": {},
   "outputs": [],
   "source": [
    "import torchaudio, torch"
   ]
  },
  {
   "cell_type": "code",
   "execution_count": null,
   "metadata": {},
   "outputs": [],
   "source": [
    "ds = torchaudio.datasets.YESNO('.',  download=True, transform=torchaudio.transforms.Resample(orig_freq=8000, new_freq=16000))"
   ]
  },
  {
   "cell_type": "code",
   "execution_count": null,
   "metadata": {},
   "outputs": [],
   "source": [
    "end_to_end_SLU = '/home/gazay/code/jongleur/end-to-end-SLU'\n",
    "\n",
    "import sys, re, os, torch\n",
    "sys.path.append(end_to_end_SLU)\n",
    "import data, models\n",
    "\n",
    "class Model:    \n",
    "    def __init__(self, name='no_unfreezing'):\n",
    "        self.name = name\n",
    "        self.experiment_path = end_to_end_SLU + '/experiments/' + name\n",
    "        self.__prepare_config__()\n",
    "        self.__prepare_dictionary__()\n",
    "        self.__prepare_model__()\n",
    "\n",
    "    def __prepare_config__(self):\n",
    "        with open(self.experiment_path + '.cfg', 'r') as f:            \n",
    "            content = f.read()\n",
    "            content = re.sub(r'folder=.+', 'folder=' + self.experiment_path, content)\n",
    "        with open(self.experiment_path + '.cfg', 'w') as f:\n",
    "            f.write(content)\n",
    "        self.config = data.read_config(self.experiment_path + '.cfg')\n",
    "        self.config.Sy_intent = None\n",
    "        self.config.values_per_slot = [24]\n",
    "        \n",
    "    def __prepare_model__(self):\n",
    "        self.model = models.Model(self.config).eval()\n",
    "        self.model.load_state_dict(torch.load(self.experiment_path + '/training/model_state.pth'))\n",
    "        self.model.cuda()\n",
    "\n",
    "    def __prepare_dictionary__(self):\n",
    "        phonemes = []\n",
    "        with open(os.path.join(self.config.folder, \"pretraining\", \"phonemes.txt\"), 'r') as f:\n",
    "            for line in f.readlines():\n",
    "                if line.rstrip(\"\\n\") != \"\": phonemes.append(line.rstrip(\"\\n\").lower())\n",
    "        self.dictionary = phonemes\n",
    "        self.config.num_phonemes = len(phonemes)\n",
    "\n",
    "    def predict(self, wav_tensor):\n",
    "        signal = wav_tensor.cuda().float().unsqueeze(0)\n",
    "        logits = self.model.pretrained_model.compute_posteriors(signal)[0][0].data.cpu()\n",
    "        phonemes = [m.dictionary[i] for i in logits.argmax(dim=1)]\n",
    "        return phonemes\n",
    "    "
   ]
  },
  {
   "cell_type": "code",
   "execution_count": null,
   "metadata": {},
   "outputs": [],
   "source": [
    "m = Model()"
   ]
  },
  {
   "cell_type": "code",
   "execution_count": null,
   "metadata": {},
   "outputs": [],
   "source": [
    "import editdistance\n",
    "\n",
    "def encode_targets(targets):\n",
    "    mapping = { 0: ['n','ow'], 1: ['y','eh','s'] } \n",
    "    return [x for target in targets for x in mapping[target.item()]]\n",
    "def remove_repeats(seq):\n",
    "    return [x for i, x in enumerate(seq) if x != 'sp' and (i == 0 or seq[i-1] != x)]\n",
    "\n",
    "for wav_tensors,sample_rate,targets in torch.utils.data.DataLoader(ds):\n",
    "    phns = m.predict(wav_tensors[0][0])\n",
    "#     print(encode_targets(targets))\n",
    "    print(remove_repeats(phns))\n",
    "    encoded_targets = encode_targets(targets)\n",
    "    print(editdistance.eval(encoded_targets, remove_repeats(phns))/len(encoded_targets))\n"
   ]
  },
  {
   "cell_type": "code",
   "execution_count": null,
   "metadata": {},
   "outputs": [],
   "source": []
  }
 ],
 "metadata": {
  "kernelspec": {
   "display_name": "Python 3",
   "language": "python",
   "name": "python3"
  },
  "language_info": {
   "codemirror_mode": {
    "name": "ipython",
    "version": 3
   },
   "file_extension": ".py",
   "mimetype": "text/x-python",
   "name": "python",
   "nbconvert_exporter": "python",
   "pygments_lexer": "ipython3",
   "version": "3.6.9"
  },
  "latex_envs": {
   "LaTeX_envs_menu_present": true,
   "autoclose": false,
   "autocomplete": true,
   "bibliofile": "biblio.bib",
   "cite_by": "apalike",
   "current_citInitial": 1,
   "eqLabelWithNumbers": true,
   "eqNumInitial": 1,
   "hotkeys": {
    "equation": "Ctrl-E",
    "itemize": "Ctrl-I"
   },
   "labels_anchors": false,
   "latex_user_defs": false,
   "report_style_numbering": false,
   "user_envs_cfg": false
  }
 },
 "nbformat": 4,
 "nbformat_minor": 2
}
